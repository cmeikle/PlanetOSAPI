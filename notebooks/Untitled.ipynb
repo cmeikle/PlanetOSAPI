{
 "cells": [
  {
   "cell_type": "code",
   "execution_count": null,
   "id": "6d32aa63",
   "metadata": {},
   "outputs": [],
   "source": [
    "from planet import api\n",
    "   client = api.ClientV1()"
   ]
  }
 ],
 "metadata": {
  "kernelspec": {
   "display_name": "Python 3",
   "language": "python",
   "name": "python3"
  },
  "language_info": {
   "codemirror_mode": {
    "name": "ipython",
    "version": 3
   },
   "file_extension": ".py",
   "mimetype": "text/x-python",
   "name": "python",
   "nbconvert_exporter": "python",
   "pygments_lexer": "ipython3",
   "version": "3.9.1"
  }
 },
 "nbformat": 4,
 "nbformat_minor": 5
}
